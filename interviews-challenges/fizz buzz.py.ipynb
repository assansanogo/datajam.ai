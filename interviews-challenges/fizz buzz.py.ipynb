{
 "cells": [
  {
   "cell_type": "code",
   "execution_count": 29,
   "metadata": {},
   "outputs": [],
   "source": [
    "def func_fizz(k):\n",
    "    return (k%3==0 and k!=0)*\"fizz\"\n"
   ]
  },
  {
   "cell_type": "code",
   "execution_count": 31,
   "metadata": {},
   "outputs": [
    {
     "data": {
      "text/plain": [
       "'fizz'"
      ]
     },
     "execution_count": 31,
     "metadata": {},
     "output_type": "execute_result"
    }
   ],
   "source": [
    "func_fizz(3)"
   ]
  },
  {
   "cell_type": "code",
   "execution_count": null,
   "metadata": {},
   "outputs": [],
   "source": [
    "def func_buzz(k):\n",
    "    return (k%5==0 and k!=0)*\"buzz\""
   ]
  },
  {
   "cell_type": "code",
   "execution_count": null,
   "metadata": {},
   "outputs": [],
   "source": [
    "def func_id(k):\n",
    "    "
   ]
  },
  {
   "cell_type": "code",
   "execution_count": 74,
   "metadata": {},
   "outputs": [
    {
     "name": "stdout",
     "output_type": "stream",
     "text": [
      "1\n",
      "2\n",
      "fizz\n",
      "4\n",
      "buzz\n",
      "fizz\n",
      "7\n",
      "8\n",
      "fizz\n",
      "buzz\n",
      "11\n",
      "fizz\n",
      "13\n",
      "14\n",
      "fizzbuzz\n",
      "16\n",
      "17\n",
      "fizz\n",
      "19\n"
     ]
    }
   ],
   "source": [
    "def fizzbuzz_v0(n):\n",
    "\t'''i fthe number is divided by 3 : fizz, by 5 : buzz, by the 2 numbers: fizzbuzz '''\n",
    "\tk=1\n",
    "\tres=None\n",
    "\twhile k<n:\n",
    "\t\tres=k        \n",
    "\t\tif (k%15==0 and k!=0):\n",
    "\t\t\tres = \"fizzbuzz\"\n",
    "\t\telif (k%3==0 and k!=0):\n",
    "\t\t\tres = \"fizz\"\n",
    "\t\telif (k%5==0 and k!=0):\n",
    "\t\t\tres = \"buzz\"\n",
    "\t\tyield res\n",
    "\t\tk+=1\n",
    "\n",
    "\"let's print the fizzbuzz from zero to 10:\"\n",
    "for stuff in fizzbuzz_v0(20):\n",
    "\tprint(stuff)\n"
   ]
  },
  {
   "cell_type": "code",
   "execution_count": 75,
   "metadata": {},
   "outputs": [
    {
     "name": "stdout",
     "output_type": "stream",
     "text": [
      "1\n",
      "2\n",
      "fizz\n",
      "4\n",
      "buzz\n",
      "fizz\n",
      "7\n",
      "8\n",
      "fizz\n",
      "buzz\n",
      "11\n",
      "fizz\n",
      "13\n",
      "14\n",
      "fizzbuzz\n",
      "16\n",
      "17\n",
      "fizz\n",
      "19\n"
     ]
    }
   ],
   "source": [
    "def fizzbuzz_v1(n):\n",
    "\t'''i fthe number is divided by 3 : fizz, by 5 : buzz, by the 2 numbers: fizzbuzz '''\n",
    "\tk=1\n",
    "\tres=None\n",
    "\twhile k<n:   \n",
    "\t\tif not (k%3==0 or k%5==0):\n",
    "\t\t\tres =k\n",
    "\t\telse:\n",
    "\t\t\tres = int(k%3==0 and k!=0)*\"fizz\" + int(k%5==0 and k!=0)*\"buzz\"\n",
    "\t\tyield res\n",
    "\t\tk+=1\n",
    "        \n",
    "\"let's print the fizzbuzz from zero to 10:\"\n",
    "for stuff in fizzbuzz_v1(20):\n",
    "\tprint(stuff)       \n"
   ]
  },
  {
   "cell_type": "code",
   "execution_count": 76,
   "metadata": {},
   "outputs": [
    {
     "name": "stdout",
     "output_type": "stream",
     "text": [
      "1\n",
      "2\n",
      "fizz\n",
      "4\n",
      "buzz\n",
      "fizz\n",
      "7\n",
      "8\n",
      "fizz\n",
      "buzz\n",
      "11\n",
      "fizz\n",
      "13\n",
      "14\n",
      "fizzbuzz\n",
      "16\n",
      "17\n",
      "fizz\n",
      "19\n"
     ]
    }
   ],
   "source": [
    "def fizzbuzz_v2(n):\n",
    "\t'''i fthe number is divided by 3 : fizz, by 5 : buzz, by the 2 numbers: fizzbuzz '''\n",
    "\tk=1\n",
    "\tres=None\n",
    "\twhile k<n:   \n",
    "\t\tres = str(int(not(k%3==0 or k%5==0))*k).replace('0','') + int(k%3==0 and k!=0)*\"fizz\" + int(k%5==0 and k!=0)*\"buzz\"\n",
    "\t\tyield res\n",
    "\t\tk+=1\n",
    "        \n",
    "\"let's print the fizzbuzz from zero to 20:\"\n",
    "for stuff in fizzbuzz_v2(20):\n",
    "\tprint(stuff)"
   ]
  }
 ],
 "metadata": {
  "kernelspec": {
   "display_name": "Python 3",
   "language": "python",
   "name": "python3"
  },
  "language_info": {
   "codemirror_mode": {
    "name": "ipython",
    "version": 3
   },
   "file_extension": ".py",
   "mimetype": "text/x-python",
   "name": "python",
   "nbconvert_exporter": "python",
   "pygments_lexer": "ipython3",
   "version": "3.5.5"
  }
 },
 "nbformat": 4,
 "nbformat_minor": 2
}
